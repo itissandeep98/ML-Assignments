{
  "nbformat": 4,
  "nbformat_minor": 0,
  "metadata": {
    "colab": {
      "name": "ML_Assignment3.ipynb",
      "provenance": [],
      "collapsed_sections": [
        "1Tx4Gs0XAbV6",
        "CFx3VdqPNh9d"
      ],
      "mount_file_id": "1QJfFz7Aj86zDZsXOVQqodupeap6Mw6fM",
      "authorship_tag": "ABX9TyNpjJeLtoLoCsWrwEHjTVgA",
      "include_colab_link": true
    },
    "kernelspec": {
      "name": "python3",
      "display_name": "Python 3"
    }
  },
  "cells": [
    {
      "cell_type": "markdown",
      "metadata": {
        "id": "view-in-github",
        "colab_type": "text"
      },
      "source": [
        "<a href=\"https://colab.research.google.com/github/itissandeep98/ML-Assignments/blob/master/Assignment3/ML_Assignment3.ipynb\" target=\"_parent\"><img src=\"https://colab.research.google.com/assets/colab-badge.svg\" alt=\"Open In Colab\"/></a>"
      ]
    },
    {
      "cell_type": "markdown",
      "metadata": {
        "id": "1Tx4Gs0XAbV6"
      },
      "source": [
        "#Imports "
      ]
    },
    {
      "cell_type": "code",
      "metadata": {
        "id": "dtBFGh_qAgIg"
      },
      "source": [
        "import numpy as np\n",
        "import pandas as pd\n",
        "import matplotlib.pyplot as plt\n",
        "from sklearn import metrics\n",
        "from sklearn.model_selection import train_test_split\n",
        "from sklearn.preprocessing import StandardScaler\n",
        "from sklearn.decomposition import PCA\n",
        "import pickle\n",
        "import random\n",
        "from PIL import Image\n",
        "from copy import deepcopy\n",
        "\n",
        "import torch\n",
        "import torch.nn as nn\n",
        "import torch.optim as optim\n",
        "import torch.utils.data as data\n",
        "from torchvision import models\n",
        "import torchvision.transforms as transforms\n",
        "import torchvision.datasets as datasets\n",
        "import torch.nn.functional as F"
      ],
      "execution_count": 88,
      "outputs": []
    },
    {
      "cell_type": "markdown",
      "metadata": {
        "id": "CFx3VdqPNh9d"
      },
      "source": [
        "# Pre Processing"
      ]
    },
    {
      "cell_type": "code",
      "metadata": {
        "id": "rBDQnce8Njuq"
      },
      "source": [
        "class MyPreProcessor():\n",
        "  \"\"\"\n",
        "  My steps for pre-processing for the All datasets.\n",
        "  \"\"\"\n",
        "\n",
        "  def __init__(self):\n",
        "    pass\n",
        "\n",
        "  def pre_process(self, dataset):\n",
        "    \"\"\"\n",
        "    Reading the file and preprocessing the input and output.\n",
        "    Note that you will encode any string value and/or remove empty entries in this function only.\n",
        "    Further any pre processing steps have to be performed in this function too. \n",
        "\n",
        "    Parameters\n",
        "    ----------\n",
        "\n",
        "    dataset : integer with acceptable values 0, 1, or 2\n",
        "    0 ->  Dataset\n",
        "    1 ->  Dataset\n",
        "    2 ->  Dataset\n",
        "\n",
        "    Returns\n",
        "    -------\n",
        "    X : 2-dimensional numpy array of shape (n_samples, n_features)\n",
        "    y : 1-dimensional numpy array of shape (n_samples,)\n",
        "    \"\"\"\n",
        "    scaler = StandardScaler()\n",
        "    if dataset == 0:\n",
        "      df=pd.read_csv(\"/content/sample_data/mnist_train_small.csv\",header=None)\n",
        "      X=df.iloc[:,1:].to_numpy()\n",
        "      # X=scaler.fit_transform(X) \n",
        "\n",
        "      y=df[0].to_numpy()\n",
        "      b = np.zeros((y.size, y.max()+1))\n",
        "      b[np.arange(y.size),y] = 1\n",
        "      y=b\n",
        "           \n",
        "    \n",
        "    elif dataset == 1:\n",
        "      df=pd.read_csv(\"/content/drive/MyDrive/ML_Assignment3/largeTrain.csv\",header=None)\n",
        "      X=df.iloc[:,1:].to_numpy()\n",
        "      y=df[0].to_numpy()\n",
        "\n",
        "    elif dataset == 2:\n",
        "      df=pd.read_csv(\"/content/drive/MyDrive/ML_Assignment3/largeValidation.csv\",header=None)\n",
        "      X=df.iloc[:,1:].to_numpy()\n",
        "      y=df[0].to_numpy()\n",
        "    \n",
        "    elif dataset == 3:\n",
        "      df= pickle.load(open(\"/content/drive/MyDrive/ML_Assignment3/train_CIFAR.pickle\",\"rb\"))\n",
        "      X=df['X']\n",
        "      y=df['Y']\n",
        "    elif dataset == 4:\n",
        "      df= pickle.load(open(\"/content/drive/MyDrive/ML_Assignment3/test_CIFAR.pickle\",\"rb\"))\n",
        "      X=df['X']\n",
        "      y=df['Y']\n",
        "    return X, y\n",
        "\n",
        "preprocessor = MyPreProcessor()\n"
      ],
      "execution_count": 82,
      "outputs": []
    },
    {
      "cell_type": "markdown",
      "metadata": {
        "id": "HFXETQq-Ago6"
      },
      "source": [
        "#My Neural Network"
      ]
    },
    {
      "cell_type": "code",
      "metadata": {
        "id": "wPTMl6_XAFan"
      },
      "source": [
        "class MyNeuralNetwork():\n",
        "    \"\"\"\n",
        "    My implementation of a Neural Network Classifier.\n",
        "    \"\"\"\n",
        "\n",
        "    acti_fns = ['relu', 'sigmoid', 'linear', 'tanh']\n",
        "    weight_inits = ['zero', 'random', 'normal']\n",
        "\n",
        "    def __init__(self, n_layers, layer_sizes, activation, learning_rate, weight_init, batch_size, num_epochs):\n",
        "        \"\"\"\n",
        "        Initializing a new MyNeuralNetwork object\n",
        "\n",
        "        Parameters\n",
        "        ----------\n",
        "        n_layers : int value specifying the number of layers\n",
        "\n",
        "        layer_sizes : integer array of size n_layers specifying the number of nodes in each layer\n",
        "\n",
        "        activation : string specifying the activation function to be used\n",
        "                     possible inputs: relu, sigmoid, linear, tanh\n",
        "\n",
        "        learning_rate : float value specifying the learning rate to be used\n",
        "\n",
        "        weight_init : string specifying the weight initialization function to be used\n",
        "                      possible inputs: zero, random, normal\n",
        "\n",
        "        batch_size : int value specifying the batch size to be used\n",
        "\n",
        "        num_epochs : int value specifying the number of epochs to be used\n",
        "        \"\"\"\n",
        "\n",
        "        if activation not in self.acti_fns:\n",
        "            raise Exception('Incorrect Activation Function')\n",
        "\n",
        "        if weight_init not in self.weight_inits:\n",
        "            raise Exception('Incorrect Weight Initialization Function')\n",
        "        \n",
        "        np.random.seed(10)\n",
        "        self.n_layers=n_layers\n",
        "        self.layer_sizes=layer_sizes \n",
        "        self.activation=activation \n",
        "        self.learning_rate=learning_rate \n",
        "        self.weight_init=weight_init\n",
        "        self.batch_size=batch_size\n",
        "        self.num_epochs=num_epochs\n",
        "        \n",
        "        weights=[]\n",
        "        bias=[]\n",
        "        for i in range(self.n_layers-1):\n",
        "          weights.append(np.array(self.weight_func((self.layer_sizes[i],self.layer_sizes[i+1]))))\n",
        "          bias.append(np.zeros(self.layer_sizes[i+1])) \n",
        "\n",
        "        self.weights=np.array(weights)\n",
        "        self.bias=np.array(bias)\n",
        "        \n",
        "\n",
        "    def activation_func(self,X):\n",
        "      if self.activation==\"relu\":\n",
        "        return self.relu(X),self.relu_grad(X)\n",
        "      elif self.activation==\"sigmoid\":\n",
        "        return self.sigmoid(X),self.sigmoid_grad(X)\n",
        "      elif self.activation==\"linear\":\n",
        "        return self.linear(X),self.linear_grad(X)\n",
        "      elif self.activation==\"tanh\":\n",
        "        return self.tanh(X),self.tanh_grad(X)\n",
        "      else:\n",
        "        return self.softmax(X),self.softmax_grad(X)\n",
        "\n",
        "    def relu(self, X):\n",
        "        \"\"\"\n",
        "        Calculating the ReLU activation for a particular layer\n",
        "\n",
        "        Parameters\n",
        "        ----------\n",
        "        X : 1-dimentional numpy array \n",
        "\n",
        "        Returns\n",
        "        -------\n",
        "        x_calc : 1-dimensional numpy array after calculating the necessary function over X\n",
        "        \"\"\"\n",
        "        x_calc=np.maximum(0,X)\n",
        "        return x_calc\n",
        "\n",
        "    def relu_grad(self, X):\n",
        "        \"\"\"\n",
        "        Calculating the gradient of ReLU activation for a particular layer\n",
        "\n",
        "        Parameters\n",
        "        ----------\n",
        "        X : 1-dimentional numpy array \n",
        "\n",
        "        Returns\n",
        "        -------\n",
        "        x_calc : 1-dimensional numpy array after calculating the necessary function over X\n",
        "        \"\"\"\n",
        "        # print(X)\n",
        "        x_calc=np.zeros(X.shape)\n",
        "        x_calc[X>0]=1\n",
        "\n",
        "        return x_calc\n",
        "\n",
        "    def sigmoid(self, X):\n",
        "        \"\"\"\n",
        "        Calculating the Sigmoid activation for a particular layer\n",
        "\n",
        "        Parameters\n",
        "        ----------\n",
        "        X : 1-dimentional numpy array \n",
        "\n",
        "        Returns\n",
        "        -------\n",
        "        x_calc : 1-dimensional numpy array after calculating the necessary function over X\n",
        "        \"\"\"\n",
        "        x_calc= 1/(1+np.exp(-X))\n",
        "\n",
        "        return x_calc\n",
        "\n",
        "    def sigmoid_grad(self, X):\n",
        "        \"\"\"\n",
        "        Calculating the gradient of Sigmoid activation for a particular layer\n",
        "\n",
        "        Parameters\n",
        "        ----------\n",
        "        X : 1-dimentional numpy array \n",
        "\n",
        "        Returns\n",
        "        -------\n",
        "        x_calc : 1-dimensional numpy array after calculating the necessary function over X\n",
        "        \"\"\"\n",
        "        sig=self.sigmoid(X)\n",
        "        x_calc=sig*(1-sig)\n",
        "        return x_calc\n",
        "\n",
        "    def linear(self, X):\n",
        "        \"\"\"\n",
        "        Calculating the Linear activation for a particular layer\n",
        "\n",
        "        Parameters\n",
        "        ----------\n",
        "        X : 1-dimentional numpy array \n",
        "\n",
        "        Returns\n",
        "        -------\n",
        "        x_calc : 1-dimensional numpy array after calculating the necessary function over X\n",
        "        \"\"\"\n",
        "        x_calc=X\n",
        "        return x_calc\n",
        "\n",
        "    def linear_grad(self, X):\n",
        "        \"\"\"\n",
        "        Calculating the gradient of Linear activation for a particular layer\n",
        "\n",
        "        Parameters\n",
        "        ----------\n",
        "        X : 1-dimentional numpy array \n",
        "\n",
        "        Returns\n",
        "        -------\n",
        "        x_calc : 1-dimensional numpy array after calculating the necessary function over X\n",
        "        \"\"\"\n",
        "        x_calc=np.zeros(X.shape)\n",
        "        x_calc[X>0]=1\n",
        "        x_calc[X<0]=-1\n",
        "        return x_calc\n",
        "\n",
        "    def tanh(self, X):\n",
        "        \"\"\"\n",
        "        Calculating the Tanh activation for a particular layer\n",
        "\n",
        "        Parameters\n",
        "        ----------\n",
        "        X : 1-dimentional numpy array \n",
        "\n",
        "        Returns\n",
        "        -------\n",
        "        x_calc : 1-dimensional numpy array after calculating the necessary function over X\n",
        "        \"\"\"\n",
        "        x_calc=np.tanh(X)\n",
        "        return x_calc\n",
        "\n",
        "    def tanh_grad(self, X):\n",
        "        \"\"\"\n",
        "        Calculating the gradient of Tanh activation for a particular layer\n",
        "\n",
        "        Parameters\n",
        "        ----------\n",
        "        X : 1-dimentional numpy array \n",
        "\n",
        "        Returns\n",
        "        -------\n",
        "        x_calc : 1-dimensional numpy array after calculating the necessary function over X\n",
        "        \"\"\"\n",
        "        tanh=self.tanh(X)\n",
        "        x_calc=1-tanh**2\n",
        "        return x_calc\n",
        "\n",
        "    def softmax(self, X):\n",
        "        \"\"\"\n",
        "        Calculating the ReLU activation for a particular layer\n",
        "\n",
        "        Parameters\n",
        "        ----------\n",
        "        X : 1-dimentional numpy array \n",
        "\n",
        "        Returns\n",
        "        -------\n",
        "        x_calc : 1-dimensional numpy array after calculating the necessary function over X\n",
        "        \"\"\"\n",
        "        # expo = np.exp(X)\n",
        "        expo = np.exp(X - X.max())\n",
        "        x_calc=expo/expo.sum(axis=0)\n",
        "        return x_calc\n",
        "    \n",
        "\n",
        "    def weight_func(self,shape):\n",
        "      if self.weight_init==\"zero\":\n",
        "        return self.zero_init(shape)\n",
        "      elif self.weight_init==\"random\":\n",
        "        return self.random_init(shape)\n",
        "      else:\n",
        "        return self.normal_init(shape)\n",
        "\n",
        "    def zero_init(self, shape):\n",
        "        \"\"\"\n",
        "        Calculating the initial weights after Zero Activation for a particular layer\n",
        "\n",
        "        Parameters\n",
        "        ----------\n",
        "        shape : tuple specifying the shape of the layer for which weights have to be generated \n",
        "\n",
        "        Returns\n",
        "        -------\n",
        "        weight : 2-dimensional numpy array which contains the initial weights for the requested layer\n",
        "        \"\"\"\n",
        "        weight= np.zeros(shape)\n",
        "        return weight \n",
        "\n",
        "    def random_init(self, shape):\n",
        "        \"\"\"\n",
        "        Calculating the initial weights after Random Activation for a particular layer\n",
        "\n",
        "        Parameters\n",
        "        ----------\n",
        "        shape : tuple specifying the shape of the layer for which weights have to be generated \n",
        "\n",
        "        Returns\n",
        "        -------\n",
        "        weight : 2-dimensional numpy array which contains the initial weights for the requested layer\n",
        "        \"\"\"\n",
        "        weight= np.random.randn(shape[0],shape[1])*0.01\n",
        "        return weight \n",
        "\n",
        "    def normal_init(self, shape):\n",
        "        \"\"\"\n",
        "        Calculating the initial weights after Normal(0,1) Activation for a particular layer\n",
        "\n",
        "        Parameters\n",
        "        ----------\n",
        "        shape : tuple specifying the shape of the layer for which weights have to be generated \n",
        "\n",
        "        Returns\n",
        "        -------\n",
        "        weight : 2-dimensional numpy array which contains the initial weights for the requested layer\n",
        "        \"\"\"\n",
        "        weight=np.random.normal(size=shape)\n",
        "        return weight\n",
        "    \n",
        "    def cross_entropy(self,y_hat,y):\n",
        "        samples=y.shape[0]\n",
        "        error=y_hat-y\n",
        "        return error/samples\n",
        "\n",
        "\n",
        "    def fit(self, X, y):\n",
        "        \"\"\"\n",
        "        Fitting (training) the linear model.\n",
        "\n",
        "        Parameters\n",
        "        ----------\n",
        "        X : 2-dimensional numpy array of shape (n_samples, n_features) which acts as training data.\n",
        "\n",
        "        y : 1-dimensional numpy array of shape (n_samples,) which acts as training labels.\n",
        "        \n",
        "        Returns\n",
        "        -------\n",
        "        self : an instance of self\n",
        "        \"\"\"\n",
        "        \n",
        "\n",
        "        weights=self.weights\n",
        "        bias=self.bias\n",
        "\n",
        "        for epoch in range(self.num_epochs):\n",
        "          for batch in range(0,X.shape[0],self.batch_size):\n",
        "            X_sample=X[batch:batch+self.batch_size,:]\n",
        "            y_sample=y[batch:batch+self.batch_size]\n",
        "            input=X_sample\n",
        "            output=y_sample\n",
        "            preActivation_H = {}\n",
        "            postActivation_H = {}\n",
        "\n",
        "            # Forward Propagation\n",
        "            for layer in range(self.n_layers-1):\n",
        "              layer_weight=weights[layer]\n",
        "              hidden_output=input.dot(layer_weight)+bias[layer]\n",
        "              hidden_output_activate,_=self.activation_func(hidden_output)          \n",
        "              input=hidden_output_activate  \n",
        "              preActivation_H[layer]=hidden_output     \n",
        "              postActivation_H[layer]=hidden_output_activate\n",
        "\n",
        "            \n",
        "            # Backward Propagation\n",
        "            aw=self.softmax(preActivation_H[self.n_layers-2])\n",
        "            dW=self.cross_entropy(aw ,output)\n",
        "            prev_weights= deepcopy(weights)\n",
        "            weights[self.n_layers-2]-=self.learning_rate*(postActivation_H[self.n_layers-3].T.dot(dW))\n",
        "            bias[self.n_layers-2]-=self.learning_rate*np.sum(dW,axis=0)\n",
        "\n",
        "            for layer in range(self.n_layers-3,0,-1):\n",
        "              delta=dW.dot(prev_weights[layer+1].T)\n",
        "              _,derv=self.activation_func(preActivation_H[layer])\n",
        "              dW=delta*derv\n",
        "\n",
        "              weights[layer]-=self.learning_rate*postActivation_H[layer-1].T.dot(dW)\n",
        "              bias[layer]-=self.learning_rate*np.sum(dW,axis=0)\n",
        "\n",
        "            delta=dW.dot(prev_weights[1].T)\n",
        "            _,derv=self.activation_func(preActivation_H[0])\n",
        "            dW=delta*derv\n",
        "            weights[0]-=self.learning_rate*X_sample.T.dot(dW)\n",
        "            bias[0]-=self.learning_rate*np.sum(dW,axis=0)\n",
        "\n",
        "        self.weights=weights\n",
        "        self.bias=bias\n",
        "        return self\n",
        "\n",
        "    def predict_proba(self, X):\n",
        "        \"\"\"\n",
        "        Predicting probabilities using the trained linear model.\n",
        "\n",
        "        Parameters\n",
        "        ----------\n",
        "        X : 2-dimensional numpy array of shape (n_samples, n_features) which acts as testing data.\n",
        "\n",
        "        Returns\n",
        "        -------\n",
        "        y : 2-dimensional numpy array of shape (n_samples, n_classes) which contains the \n",
        "            class wise prediction probabilities.\n",
        "        \"\"\"\n",
        "        y=X\n",
        "        for w, b in zip(self.weights, self.bias):\n",
        "            z = np.dot(y,w) + b\n",
        "            y,_ = self.activation_func(z)\n",
        "\n",
        "        # return the numpy array y which contains the probability of predicted values\n",
        "        return y\n",
        "\n",
        "    def predict(self, X):\n",
        "        \"\"\"\n",
        "        Predicting values using the trained linear model.\n",
        "\n",
        "        Parameters\n",
        "        ----------\n",
        "        X : 2-dimensional numpy array of shape (n_samples, n_features) which acts as testing data.\n",
        "\n",
        "        Returns\n",
        "        -------\n",
        "        y : 1-dimensional numpy array of shape (n_samples,) which contains the predicted values.\n",
        "        \"\"\"\n",
        "        y=self.predict_proba(X)\n",
        "\n",
        "        # return the numpy array y which contains the predicted values\n",
        "        return y.argmax(axis=1)\n",
        "\n",
        "    def score(self, X, y):\n",
        "        \"\"\"\n",
        "        Predicting values using the trained linear model.\n",
        "\n",
        "        Parameters\n",
        "        ----------\n",
        "        X : 2-dimensional numpy array of shape (n_samples, n_features) which acts as testing data.\n",
        "\n",
        "        y : 1-dimensional numpy array of shape (n_samples,) which acts as testing labels.\n",
        "\n",
        "        Returns\n",
        "        -------\n",
        "        acc : float value specifying the accuracy of the model on the provided testing set\n",
        "        \"\"\"\n",
        "\n",
        "        y_pred=self.predict(X)\n",
        "        y=y.argmax(axis=1)\n",
        "        acc=metrics.accuracy_score(y,y_pred)\n",
        "        return acc"
      ],
      "execution_count": 102,
      "outputs": []
    },
    {
      "cell_type": "markdown",
      "metadata": {
        "id": "zEVsh_lHOIiv"
      },
      "source": [
        "## Testing"
      ]
    },
    {
      "cell_type": "code",
      "metadata": {
        "id": "J3GmRAYX5HzM",
        "colab": {
          "base_uri": "https://localhost:8080/"
        },
        "outputId": "7f8d79fb-a04c-4094-f28e-2f297059d757"
      },
      "source": [
        "scaler = StandardScaler()\n",
        "X, y = preprocessor.pre_process(0)\n",
        "print(X.shape,y.shape)\n",
        "X_train, X_test, y_train, y_test = train_test_split(X, y, stratify=y, test_size=0.20)\n",
        "X_train=scaler.fit_transform(X_train)\n",
        "X_test=scaler.transform(X_test)"
      ],
      "execution_count": 103,
      "outputs": [
        {
          "output_type": "stream",
          "text": [
            "(20000, 784) (20000, 10)\n"
          ],
          "name": "stdout"
        }
      ]
    },
    {
      "cell_type": "code",
      "metadata": {
        "colab": {
          "base_uri": "https://localhost:8080/"
        },
        "id": "e3RRakSxOs59",
        "outputId": "63a3e6e1-2926-4022-af59-b3c534e06f70"
      },
      "source": [
        "classifier=MyNeuralNetwork(5,[784,256, 128, 64,10],'sigmoid',0.1,'random',1024,100)\n",
        "classifier.fit(X_train,y_train)\n",
        "# print(classifier.weights)\n",
        "classifier.score(X_test,y_test)"
      ],
      "execution_count": 104,
      "outputs": [
        {
          "output_type": "execute_result",
          "data": {
            "text/plain": [
              "0.098"
            ]
          },
          "metadata": {
            "tags": []
          },
          "execution_count": 104
        }
      ]
    },
    {
      "cell_type": "code",
      "metadata": {
        "colab": {
          "base_uri": "https://localhost:8080/"
        },
        "id": "b90wZXv4n05I",
        "outputId": "709bfafb-4896-4896-fa52-b17f1e1bfe61"
      },
      "source": [
        "classifier.predict(X_test)"
      ],
      "execution_count": 21,
      "outputs": [
        {
          "output_type": "execute_result",
          "data": {
            "text/plain": [
              "array([0, 0, 0, ..., 0, 0, 0])"
            ]
          },
          "metadata": {
            "tags": []
          },
          "execution_count": 21
        }
      ]
    },
    {
      "cell_type": "code",
      "metadata": {
        "colab": {
          "base_uri": "https://localhost:8080/"
        },
        "id": "dEPnl6n7MY_m",
        "outputId": "c47bb315-d738-4fb4-f468-2ac7f607c415"
      },
      "source": [
        "np.random.randn(2,5)*0.01"
      ],
      "execution_count": 23,
      "outputs": [
        {
          "output_type": "execute_result",
          "data": {
            "text/plain": [
              "array([[ 0.0067381 , -0.01307217,  0.00018689, -0.00018207, -0.01995399],\n",
              "       [ 0.0057561 , -0.00519099, -0.01337942,  0.02140737,  0.00269379]])"
            ]
          },
          "metadata": {
            "tags": []
          },
          "execution_count": 23
        }
      ]
    },
    {
      "cell_type": "markdown",
      "metadata": {
        "id": "q_bsd1yBQYn9"
      },
      "source": [
        "# Q3"
      ]
    },
    {
      "cell_type": "code",
      "metadata": {
        "colab": {
          "base_uri": "https://localhost:8080/"
        },
        "id": "MWPNACnui3cx",
        "outputId": "b7dd7a79-bb96-4af0-b812-dde2d4a157b0"
      },
      "source": [
        "X_train,y_train= preprocessor.pre_process(1)\n",
        "X_val,y_val= preprocessor.pre_process(2)\n",
        "device = torch.device('cuda' if torch.cuda.is_available() else 'cpu')\n",
        "X_train.shape,y_train.shape,X_val.shape,y_val.shape"
      ],
      "execution_count": 65,
      "outputs": [
        {
          "output_type": "execute_result",
          "data": {
            "text/plain": [
              "((9000, 128), (9000,), (1000, 128), (1000,))"
            ]
          },
          "metadata": {
            "tags": []
          },
          "execution_count": 65
        }
      ]
    },
    {
      "cell_type": "code",
      "metadata": {
        "id": "AqAbf-7va8SN"
      },
      "source": [
        "class MLP(nn.Module):\n",
        "  def __init__(self, input_dim, output_dim, hidden_dim):\n",
        "    super(MLP,self).__init__()\n",
        "    self.input_fc = nn.Linear(input_dim, hidden_dim)\n",
        "    self.output_fc = nn.Linear(hidden_dim, output_dim)\n",
        "        \n",
        "  def forward(self, x):\n",
        "    h_1 = F.relu(self.input_fc(x))\n",
        "    y_pred = self.output_fc(h_1)\n",
        "    return y_pred"
      ],
      "execution_count": 59,
      "outputs": []
    },
    {
      "cell_type": "code",
      "metadata": {
        "id": "PwrWvudIzsAI"
      },
      "source": [
        "class MyDataset(data.Dataset):\n",
        "\n",
        "  def __init__(self,X,y):\n",
        "    self.X=X\n",
        "    self.y=y\n",
        "\n",
        "  def __len__(self):\n",
        "    return self.X.shape[0]\n",
        "\n",
        "  def __getitem__(self,i):\n",
        "    return self.X[i],self.y[i]"
      ],
      "execution_count": 60,
      "outputs": []
    },
    {
      "cell_type": "code",
      "metadata": {
        "id": "Ei1QAlBBu48e"
      },
      "source": [
        "def train(model, train_iterator,val_iterator, optimizer, criterion, device,epochs,flag=True):  \n",
        "    # model.train()\n",
        "    ce_loss=[]\n",
        "    val_loss=[]\n",
        "    for epoch in range(epochs):\n",
        "      epoch_loss = 0\n",
        "      epoch_loss_val=0\n",
        "      for train,valid in zip(train_iterator,val_iterator):\n",
        "          # training\n",
        "          x,y = train\n",
        "          x = x.to(device)\n",
        "          y = y.to(device)\n",
        "\n",
        "          optimizer.zero_grad()\n",
        "          y_pred = model(x.float())\n",
        "          loss = criterion(y_pred, y)\n",
        "          loss.backward()\n",
        "          optimizer.step()\n",
        "          epoch_loss += loss.item()\n",
        "\n",
        "          #validation\n",
        "          x_val,y_val = valid\n",
        "          x_val = x_val.to(device)\n",
        "          y_val = y_val.to(device)          \n",
        "          y_val_pred= model(x_val.float())\n",
        "          loss= criterion(y_val_pred, y_val)\n",
        "          epoch_loss_val += loss.item()\n",
        "      \n",
        "      ce_loss.append(epoch_loss/ len(train_iterator))\n",
        "      val_loss.append(epoch_loss_val/ len(val_iterator))\n",
        "\n",
        "      if((epoch+1)%100==0):\n",
        "        print(\"epoch:\",epoch+1,\"\\t\",epoch_loss/ len(train_iterator),epoch_loss_val/ len(val_iterator) )\n",
        "    if(not flag):\n",
        "      return ce_loss,val_loss\n",
        "    return np.mean(ce_loss),np.mean(val_loss)"
      ],
      "execution_count": 66,
      "outputs": []
    },
    {
      "cell_type": "markdown",
      "metadata": {
        "id": "Q7ALiJVz-iEr"
      },
      "source": [
        "## 1)"
      ]
    },
    {
      "cell_type": "markdown",
      "metadata": {
        "id": "dSmxd7YJEUla"
      },
      "source": [
        "### a)"
      ]
    },
    {
      "cell_type": "code",
      "metadata": {
        "colab": {
          "base_uri": "https://localhost:8080/",
          "height": 817
        },
        "id": "8fAm1UOWylxS",
        "outputId": "e40c7ebf-15ca-48ef-d508-187b79fda77e"
      },
      "source": [
        "hidden_units=[5, 20, 50, 100 ,200]\n",
        "input_size=128\n",
        "output_size=10\n",
        "\n",
        "ce_loss=[]\n",
        "val_loss=[]\n",
        "\n",
        "criterion = nn.CrossEntropyLoss()\n",
        "criterion = criterion.to(device)\n",
        "\n",
        "train_data=MyDataset(X_train,y_train)\n",
        "val_data=MyDataset(X_val,y_val)\n",
        "\n",
        "for h_unit in hidden_units:\n",
        "  print(h_unit)\n",
        "  train_iterator = data.DataLoader(train_data, shuffle = True, batch_size = 1024)\n",
        "  val_iterator = data.DataLoader(val_data, batch_size = 126)\n",
        "  model = nn.Sequential(nn.Linear(input_size, h_unit),\n",
        "                        nn.ReLU(),\n",
        "                        nn.Linear(h_unit, output_size),\n",
        "                        nn.Softmax(dim=1))\n",
        "  # model=MLP(input_size,output_size,h_unit)\n",
        "  optimizer = optim.Adam(model.parameters(),lr=0.01)\n",
        "\n",
        "  t_loss,v_loss=train(model,\n",
        "                      train_iterator,\n",
        "                      val_iterator,\n",
        "                      optimizer,\n",
        "                      criterion,\n",
        "                      device,\n",
        "                      500)\n",
        "  ce_loss.append(t_loss)\n",
        "  val_loss.append(v_loss)\n",
        "\n",
        "plt.plot(hidden_units,ce_loss,label=\"Average Training Loss\")\n",
        "plt.plot(hidden_units,val_loss,label=\"Average Validation Loss\")\n",
        "plt.ylabel(\"Cross Entropy Loss\")\n",
        "plt.xlabel(\"Number of Hidden Units\")\n",
        "plt.legend()"
      ],
      "execution_count": 68,
      "outputs": [
        {
          "output_type": "stream",
          "text": [
            "5\n",
            "epoch: 100 \t 1.429646372795105 1.6679607033729553\n",
            "epoch: 200 \t 1.4174147579405043 1.6660494953393936\n",
            "epoch: 300 \t 1.4150738451215956 1.6673898994922638\n",
            "epoch: 400 \t 1.4121552573310003 1.6675715446472168\n",
            "epoch: 500 \t 1.4089178244272869 1.6667692512273788\n",
            "20\n",
            "epoch: 100 \t 1.3705570035510592 1.6330607235431671\n",
            "epoch: 200 \t 1.3636595010757446 1.628951445221901\n",
            "epoch: 300 \t 1.362018346786499 1.6337948590517044\n",
            "epoch: 400 \t 1.3601501252916124 1.6344797909259796\n",
            "epoch: 500 \t 1.3613705502616034 1.6317482143640518\n",
            "50\n",
            "epoch: 100 \t 1.3620342546039157 1.624546393752098\n",
            "epoch: 200 \t 1.355633060137431 1.6195921003818512\n",
            "epoch: 300 \t 1.352986733118693 1.6183650642633438\n",
            "epoch: 400 \t 1.351118220223321 1.6090140342712402\n",
            "epoch: 500 \t 1.3488270309236314 1.6121167540550232\n",
            "100\n",
            "epoch: 100 \t 1.3553993966844347 1.6147668212652206\n",
            "epoch: 200 \t 1.3521797789467707 1.6143093705177307\n",
            "epoch: 300 \t 1.3456170558929443 1.603479728102684\n",
            "epoch: 400 \t 1.3433796299828424 1.596004694700241\n",
            "epoch: 500 \t 1.341774821281433 1.5954657793045044\n",
            "200\n",
            "epoch: 100 \t 1.3421145015292697 1.5906646996736526\n",
            "epoch: 200 \t 1.3349724875556097 1.582154706120491\n",
            "epoch: 300 \t 1.3300333950254652 1.5817423313856125\n",
            "epoch: 400 \t 1.3287308481004503 1.5806451886892319\n",
            "epoch: 500 \t 1.3289010657204523 1.581180065870285\n"
          ],
          "name": "stdout"
        },
        {
          "output_type": "execute_result",
          "data": {
            "text/plain": [
              "<matplotlib.legend.Legend at 0x7f0054deb7f0>"
            ]
          },
          "metadata": {
            "tags": []
          },
          "execution_count": 68
        },
        {
          "output_type": "display_data",
          "data": {
            "image/png": "[encoded data removed]",
            "text/plain": [
              "<Figure size 432x288 with 1 Axes>"
            ]
          },
          "metadata": {
            "tags": [],
            "needs_background": "light"
          }
        }
      ]
    },
    {
      "cell_type": "markdown",
      "metadata": {
        "id": "mR6Y8sqODueR"
      },
      "source": [
        "## 2)"
      ]
    },
    {
      "cell_type": "markdown",
      "metadata": {
        "id": "4vyNq-zLd4d2"
      },
      "source": [
        "### a)"
      ]
    },
    {
      "cell_type": "code",
      "metadata": {
        "colab": {
          "base_uri": "https://localhost:8080/",
          "height": 955
        },
        "id": "fEje1AvmB-vz",
        "outputId": "2face0e7-f0de-4c51-b8ee-518d83bea306"
      },
      "source": [
        "learning_rates=[0.1, 0.01, 0.001]\n",
        "input_size=128\n",
        "hidden_size=4\n",
        "output_size=10\n",
        "\n",
        "criterion = nn.CrossEntropyLoss()\n",
        "\n",
        "train_data=MyDataset(X_train,y_train)\n",
        "val_data=MyDataset(X_val,y_val)\n",
        "\n",
        "train_iterator = data.DataLoader(train_data, shuffle = True, batch_size = 1024)\n",
        "val_iterator = data.DataLoader(val_data, shuffle = True, batch_size = 126)\n",
        "\n",
        "model = nn.Sequential(nn.Linear(input_size, hidden_size),\n",
        "                        nn.ReLU(),\n",
        "                        nn.Linear(hidden_size, output_size),\n",
        "                        nn.Softmax(dim=1))\n",
        "for lr in learning_rates:\n",
        "  print(lr)\n",
        "  optimizer = optim.Adam(model.parameters(),lr=lr)\n",
        "  t_loss,v_loss=train(model,\n",
        "                      train_iterator,\n",
        "                      val_iterator,\n",
        "                      optimizer,\n",
        "                      criterion,\n",
        "                      device,\n",
        "                      100,\n",
        "                      False)\n",
        "  \n",
        "  plt.figure()\n",
        "  plt.title(\"Learning Rate: \"+str(lr))\n",
        "  plt.plot(range(100),t_loss,label=\"Average Training Loss\")\n",
        "  # plt.plot(range(100),v_loss,label=\"Average Validation Loss\")\n",
        "  plt.ylabel(\"Cross Entropy Loss\")\n",
        "  plt.xlabel(\"Epochs\")\n",
        "  plt.legend()\n",
        "  plt.show()"
      ],
      "execution_count": 274,
      "outputs": [
        {
          "output_type": "stream",
          "text": [
            "0.1\n",
            "epoch: 100 \t 1.462270286348131 2.2195672690868378\n"
          ],
          "name": "stdout"
        },
        {
          "output_type": "display_data",
          "data": {
            "image/png": "[encoded data removed]",
            "text/plain": [
              "<Figure size 432x288 with 1 Axes>"
            ]
          },
          "metadata": {
            "tags": [],
            "needs_background": "light"
          }
        },
        {
          "output_type": "stream",
          "text": [
            "0.01\n",
            "epoch: 100 \t 1.4352003203497992 2.192150294780731\n"
          ],
          "name": "stdout"
        },
        {
          "output_type": "display_data",
          "data": {
            "image/png": "[encoded data removed]",
            "text/plain": [
              "<Figure size 432x288 with 1 Axes>"
            ]
          },
          "metadata": {
            "tags": [],
            "needs_background": "light"
          }
        },
        {
          "output_type": "stream",
          "text": [
            "0.001\n",
            "epoch: 100 \t 1.4336902035607233 2.1906075477600098\n"
          ],
          "name": "stdout"
        },
        {
          "output_type": "display_data",
          "data": {
            "image/png": "[encoded data removed]",
            "text/plain": [
              "<Figure size 432x288 with 1 Axes>"
            ]
          },
          "metadata": {
            "tags": [],
            "needs_background": "light"
          }
        }
      ]
    },
    {
      "cell_type": "markdown",
      "metadata": {
        "id": "iquovfLLd-tH"
      },
      "source": [
        "# 4"
      ]
    },
    {
      "cell_type": "code",
      "metadata": {
        "colab": {
          "base_uri": "https://localhost:8080/"
        },
        "id": "aHFQIYp0bl2e",
        "outputId": "403fe669-913b-4516-d966-bd49c37e1a37"
      },
      "source": [
        "X_train,y_train=preprocessor.pre_process(3)\n",
        "X_test,y_test=preprocessor.pre_process(4)\n",
        "\n",
        "X_train.shape,X_test.shape,y_train.shape"
      ],
      "execution_count": 69,
      "outputs": [
        {
          "output_type": "execute_result",
          "data": {
            "text/plain": [
              "((10000, 3072), (2000, 3072), (10000,))"
            ]
          },
          "metadata": {
            "tags": []
          },
          "execution_count": 69
        }
      ]
    },
    {
      "cell_type": "markdown",
      "metadata": {
        "id": "7DfwZa-ygokP"
      },
      "source": [
        "## 1) EDA"
      ]
    },
    {
      "cell_type": "code",
      "metadata": {
        "id": "9IdxVvhHgVie"
      },
      "source": [
        "df=pd.DataFrame(X_train)\n",
        "class_names=[\"airplane\",\"automobile\",\"bird\",\"cat\",\"deer\",\"dog\",\"frog\",\"horse\",\"ship\",\"truck\"]"
      ],
      "execution_count": 61,
      "outputs": []
    },
    {
      "cell_type": "code",
      "metadata": {
        "colab": {
          "base_uri": "https://localhost:8080/",
          "height": 237
        },
        "id": "WWu7wXuhe0yM",
        "outputId": "3995c3a5-efc8-4820-c893-ed6795c57469"
      },
      "source": [
        "def unique_images():\n",
        "  unique_label=[]\n",
        "  for i in range(20,X_train.shape[0]):\n",
        "    if(y_train[i] not in unique_label):\n",
        "      plt.subplot(1,2,y_train[i]+1)\n",
        "      data = X_train[i, :] \n",
        "      data = np.reshape(data, (32,32,3), order='F' ) \n",
        "      plt.imshow(data)\n",
        "      print(i)\n",
        "      unique_label.append(y_train[i])\n",
        "unique_images()\n",
        "      "
      ],
      "execution_count": 62,
      "outputs": [
        {
          "output_type": "stream",
          "text": [
            "20\n",
            "24\n"
          ],
          "name": "stdout"
        },
        {
          "output_type": "display_data",
          "data": {
            "image/png": "[encoded data removed]",
            "text/plain": [
              "<Figure size 432x288 with 2 Axes>"
            ]
          },
          "metadata": {
            "tags": [],
            "needs_background": "light"
          }
        }
      ]
    },
    {
      "cell_type": "code",
      "metadata": {
        "id": "2Bs1addzkW1p",
        "colab": {
          "base_uri": "https://localhost:8080/",
          "height": 390
        },
        "outputId": "0cf04b33-daad-48dc-b9c4-07a2ee726b18"
      },
      "source": [
        "def display_color_hists(images, labels, indices, class_names=class_names):\n",
        "    fig = plt.figure(figsize=(10,6))\n",
        "    n = 0\n",
        "    for i in indices:\n",
        "        plt.subplot(2,3,n+1)\n",
        "        plt.hist(images[i][:1024],color = \"red\")\n",
        "        plt.title(class_names[labels[i]])\n",
        "        n += 1\n",
        "        \n",
        "        plt.subplot(2,3,n+1)\n",
        "        plt.hist(images[i][1024:2048],color = \"green\")\n",
        "        plt.title(class_names[labels[i]])\n",
        "        n += 1\n",
        "        \n",
        "        plt.subplot(2,3,n+1)\n",
        "        plt.hist(images[i][2048:],color = \"skyblue\")\n",
        "        plt.title(class_names[labels[i]])\n",
        "        n += 1\n",
        "    plt.show()\n",
        "display_color_hists(X_train, y_train,[0,2] )"
      ],
      "execution_count": 68,
      "outputs": [
        {
          "output_type": "display_data",
          "data": {
            "image/png": "[encoded data removed]",
            "text/plain": [
              "<Figure size 720x432 with 6 Axes>"
            ]
          },
          "metadata": {
            "tags": [],
            "needs_background": "light"
          }
        }
      ]
    },
    {
      "cell_type": "code",
      "metadata": {
        "colab": {
          "base_uri": "https://localhost:8080/"
        },
        "id": "D7MmxUjTnaeG",
        "outputId": "e71ae1bb-c6d3-4ad0-82ff-4c0956235604"
      },
      "source": [
        "np.unique(y_train, return_counts=True)"
      ],
      "execution_count": 64,
      "outputs": [
        {
          "output_type": "execute_result",
          "data": {
            "text/plain": [
              "(array([0, 1]), array([5000, 5000]))"
            ]
          },
          "metadata": {
            "tags": []
          },
          "execution_count": 64
        }
      ]
    },
    {
      "cell_type": "markdown",
      "metadata": {
        "id": "Woiuil05dUag"
      },
      "source": [
        "## 2) AlexNet"
      ]
    },
    {
      "cell_type": "code",
      "metadata": {
        "id": "_MBJ2BxRzpvD"
      },
      "source": [
        "class MyDataset1(data.Dataset): \n",
        "    def __init__(self, data, label, transform=None):\n",
        "        self.data = data\n",
        "        self.label = label\n",
        "        self.transform = transform\n",
        "        self.img_shape = data.shape\n",
        "        \n",
        "    def __getitem__(self, index): \n",
        "        img_reshaped = np.transpose(np.reshape(self.data[index],(3, 32,32)))\n",
        "  \n",
        "        img = Image.fromarray(img_reshaped)\n",
        "        label = self.label[index]\n",
        "        if self.transform is not None:\n",
        "            img = self.transform(img)\n",
        "            # img=torch.unsqueeze(img, 0)\n",
        "        else:\n",
        "            img_to_tensor = transforms.ToTensor()\n",
        "            img = img_to_tensor(img)\n",
        "        return img, label\n",
        "        \n",
        "    def __len__(self):\n",
        "        return self.data.shape[0]"
      ],
      "execution_count": 74,
      "outputs": []
    },
    {
      "cell_type": "code",
      "metadata": {
        "colab": {
          "base_uri": "https://localhost:8080/"
        },
        "id": "DYnLOJD1syrd",
        "outputId": "ec886e68-5648-4988-bc09-4553c5ba2f20"
      },
      "source": [
        "alexnet = models.alexnet(pretrained=True)\n",
        "alexnet.eval()\n",
        "alexnet"
      ],
      "execution_count": 75,
      "outputs": [
        {
          "output_type": "execute_result",
          "data": {
            "text/plain": [
              "AlexNet(\n",
              "  (features): Sequential(\n",
              "    (0): Conv2d(3, 64, kernel_size=(11, 11), stride=(4, 4), padding=(2, 2))\n",
              "    (1): ReLU(inplace=True)\n",
              "    (2): MaxPool2d(kernel_size=3, stride=2, padding=0, dilation=1, ceil_mode=False)\n",
              "    (3): Conv2d(64, 192, kernel_size=(5, 5), stride=(1, 1), padding=(2, 2))\n",
              "    (4): ReLU(inplace=True)\n",
              "    (5): MaxPool2d(kernel_size=3, stride=2, padding=0, dilation=1, ceil_mode=False)\n",
              "    (6): Conv2d(192, 384, kernel_size=(3, 3), stride=(1, 1), padding=(1, 1))\n",
              "    (7): ReLU(inplace=True)\n",
              "    (8): Conv2d(384, 256, kernel_size=(3, 3), stride=(1, 1), padding=(1, 1))\n",
              "    (9): ReLU(inplace=True)\n",
              "    (10): Conv2d(256, 256, kernel_size=(3, 3), stride=(1, 1), padding=(1, 1))\n",
              "    (11): ReLU(inplace=True)\n",
              "    (12): MaxPool2d(kernel_size=3, stride=2, padding=0, dilation=1, ceil_mode=False)\n",
              "  )\n",
              "  (avgpool): AdaptiveAvgPool2d(output_size=(6, 6))\n",
              "  (classifier): Sequential(\n",
              "    (0): Dropout(p=0.5, inplace=False)\n",
              "    (1): Linear(in_features=9216, out_features=4096, bias=True)\n",
              "    (2): ReLU(inplace=True)\n",
              "    (3): Dropout(p=0.5, inplace=False)\n",
              "    (4): Linear(in_features=4096, out_features=4096, bias=True)\n",
              "    (5): ReLU(inplace=True)\n",
              "    (6): Linear(in_features=4096, out_features=1000, bias=True)\n",
              "  )\n",
              ")"
            ]
          },
          "metadata": {
            "tags": []
          },
          "execution_count": 75
        }
      ]
    },
    {
      "cell_type": "code",
      "metadata": {
        "colab": {
          "base_uri": "https://localhost:8080/"
        },
        "id": "JxvepnO7xnbT",
        "outputId": "4711f107-dd4e-4563-9f35-440fe6cef509"
      },
      "source": [
        "train_transform_aug = transforms.Compose([\n",
        "    transforms.Resize((40, 40)),       \n",
        "    transforms.ToTensor(),\n",
        "    transforms.Pad(16),\n",
        "    transforms.Normalize( mean=[0.485, 0.456, 0.406],std=[0.229, 0.224, 0.225])]\n",
        "  )\n",
        "train_data=MyDataset1(X_train,y_train,train_transform_aug)\n",
        "\n",
        "train_loader = data.DataLoader(dataset=train_data,\n",
        "                          batch_size=X_train.shape[0], \n",
        "                          shuffle=True)\n",
        "\n",
        "len(train_loader)"
      ],
      "execution_count": 79,
      "outputs": [
        {
          "output_type": "execute_result",
          "data": {
            "text/plain": [
              "1"
            ]
          },
          "metadata": {
            "tags": []
          },
          "execution_count": 79
        }
      ]
    },
    {
      "cell_type": "code",
      "metadata": {
        "colab": {
          "base_uri": "https://localhost:8080/"
        },
        "id": "bthVaZAjs399",
        "outputId": "c16fdbe9-d0f1-48bc-d0c7-f47c597d46f0"
      },
      "source": [
        "for x,y in train_loader:\n",
        "  output=alexnet(x)\n",
        "  print(output.size())"
      ],
      "execution_count": 80,
      "outputs": [
        {
          "output_type": "stream",
          "text": [
            "torch.Size([10000, 1000])\n"
          ],
          "name": "stdout"
        }
      ]
    },
    {
      "cell_type": "code",
      "metadata": {
        "colab": {
          "base_uri": "https://localhost:8080/"
        },
        "id": "D6fMbuUa2sR-",
        "outputId": "a596006f-d5a0-4e0f-85bd-70ece1ff575d"
      },
      "source": [
        "output.size()"
      ],
      "execution_count": 81,
      "outputs": [
        {
          "output_type": "execute_result",
          "data": {
            "text/plain": [
              "torch.Size([10000, 1000])"
            ]
          },
          "metadata": {
            "tags": []
          },
          "execution_count": 81
        }
      ]
    },
    {
      "cell_type": "code",
      "metadata": {
        "id": "INHuQXQYnGCR"
      },
      "source": [
        ""
      ],
      "execution_count": null,
      "outputs": []
    }
  ]
}