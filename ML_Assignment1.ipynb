{
  "nbformat": 4,
  "nbformat_minor": 0,
  "metadata": {
    "colab": {
      "name": "ML_Assignment1.ipynb",
      "provenance": [],
      "collapsed_sections": [],
      "authorship_tag": "ABX9TyPShU7StmxPaU90k5hS7N3W",
      "include_colab_link": true
    },
    "kernelspec": {
      "name": "python3",
      "display_name": "Python 3"
    }
  },
  "cells": [
    {
      "cell_type": "markdown",
      "metadata": {
        "id": "view-in-github",
        "colab_type": "text"
      },
      "source": [
        "<a href=\"https://colab.research.google.com/github/itissandeep98/ML-Assignments/blob/master/ML_Assignment1.ipynb\" target=\"_parent\"><img src=\"https://colab.research.google.com/assets/colab-badge.svg\" alt=\"Open In Colab\"/></a>"
      ]
    },
    {
      "cell_type": "markdown",
      "metadata": {
        "id": "e5O3iEtAFqzd",
        "colab_type": "text"
      },
      "source": [
        "# Imports"
      ]
    },
    {
      "cell_type": "code",
      "metadata": {
        "id": "VEo5gx2hZQKG",
        "colab_type": "code",
        "colab": {}
      },
      "source": [
        "import numpy as np\n",
        "import pandas as pd\n",
        "import matplotlib.pyplot as plt\n",
        "from random import randint\n",
        "%matplotlib inline"
      ],
      "execution_count": 71,
      "outputs": []
    },
    {
      "cell_type": "markdown",
      "metadata": {
        "id": "q9RJnOQAEAU3",
        "colab_type": "text"
      },
      "source": [
        "## Preprocess"
      ]
    },
    {
      "cell_type": "code",
      "metadata": {
        "id": "2kS_U4I6EDez",
        "colab_type": "code",
        "colab": {}
      },
      "source": [
        "class MyPreProcessor():\n",
        "  \"\"\"\n",
        "  My steps for pre-processing for the three datasets.\n",
        "  \"\"\"\n",
        "\n",
        "  def __init__(self):\n",
        "    pass\n",
        "\n",
        "  def pre_process(self, dataset):\n",
        "    \"\"\"\n",
        "    Reading the file and preprocessing the input and output.\n",
        "    Note that you will encode any string value and/or remove empty entries in this function only.\n",
        "    Further any pre processing steps have to be performed in this function too. \n",
        "\n",
        "    Parameters\n",
        "    ----------\n",
        "\n",
        "    dataset : integer with acceptable values 0, 1, or 2\n",
        "    0 -> Abalone Dataset\n",
        "    1 -> VideoGame Dataset\n",
        "    2 -> BankNote Authentication Dataset\n",
        "\n",
        "    Returns\n",
        "    -------\n",
        "    X : 2-dimensional numpy array of shape (n_samples, n_features)\n",
        "    y : 1-dimensional numpy array of shape (n_samples,)\n",
        "    \"\"\"     \n",
        "\n",
        "    if dataset == 0:\n",
        "      df=pd.read_csv('/content/Dataset.data',delim_whitespace=True,header=None) # data read from file\n",
        "      df.sample(frac=1) # data shuffled\n",
        "\n",
        "      # changed gender values to integers\n",
        "      df[0].replace('M',1,inplace=True)\n",
        "      df[0].replace('F',2,inplace=True)\n",
        "      df[0].replace('I',3,inplace=True)\n",
        "\n",
        "      data=df.to_numpy() # converted dataframe into numpy array\n",
        "      X=data[:,:-1]\n",
        "      y=data[:,-1]\n",
        "\n",
        "    elif dataset == 1:\n",
        "      df=pd.read_csv('/content/VideoGameDataset.csv') # data read from file\n",
        "      df=df[['Critic_Score','User_Score','Global_Sales']] # required colums extracted\n",
        "      df=df.sample(frac=1) # data shuffled\n",
        "\n",
        "\n",
        "      df['Critic_Score'].fillna(df['Critic_Score'].median(), inplace=True) # replaced NaN values with median of the column\n",
        "      df['User_Score'].replace(to_replace = 'tbd', value = np.nan,inplace=True) # replaced the cell with 'tbd' value to NaN value in the colum\n",
        "      df['User_Score']=df['User_Score'].astype(np.float) # converted column from strings to float values\n",
        "      df['User_Score'].fillna(df['User_Score'].median(), inplace=True) # replaced NaN values with median of the column\n",
        "\n",
        "      data=df.to_numpy() # converted dataframe into numpy array\n",
        "      X=data[:,:-1]\n",
        "      y=data[:,-1]\n",
        "\n",
        "    elif dataset == 2:\n",
        "      # Implement for the banknote authentication dataset\n",
        "      df=pd.read_csv('/content/data_banknote_authentication.txt',header=None) # data read from file\n",
        "      df=df.sample(frac=1) # data shuffled\n",
        "      X=df[[0,1,2,3]].to_numpy()\n",
        "      y=df[[4]].to_numpy()\n",
        "      y=y.squeeze()\n",
        "\n",
        "    elif dataset==3:\n",
        "      df=pd.read_csv('/content/Q4_Dataset.txt',delim_whitespace=True,header=None)\n",
        "      X=df[[1,2]].to_numpy()\n",
        "      y=df[[0]].to_numpy()\n",
        "\n",
        "    X=(X-X.mean(axis=0))/X.std(axis=0) # normalized the data \n",
        "\n",
        "    return X, y\n"
      ],
      "execution_count": 64,
      "outputs": []
    },
    {
      "cell_type": "markdown",
      "metadata": {
        "id": "PSTeIMNDSrEl",
        "colab_type": "text"
      },
      "source": [
        "# Linear Regression"
      ]
    },
    {
      "cell_type": "code",
      "metadata": {
        "id": "gofY4sQaGeYo",
        "colab_type": "code",
        "colab": {}
      },
      "source": [
        "class MyLinearRegression():\n",
        "  \"\"\"\n",
        "\tMy implementation of Linear Regression.\n",
        "\t\"\"\"\n",
        "  def __init__(self):\n",
        "    pass\n",
        "\n",
        "  def cross_validation(self,X,y,epoch=1000,alpha=0.01,k=10,lossfunc=1):\n",
        "    \"\"\"\n",
        "    performs k fold cross validation on the given dataset\n",
        "\n",
        "    Parameters\n",
        "    ----------\n",
        "    X : 2-dimensional numpy array of shape (n_samples, n_features) \n",
        "\n",
        "    y : 1-dimensional numpy array of shape (n_samples,)\n",
        "\n",
        "    k : Number of folds the data needs to be splitted into\n",
        "\n",
        "    epoch : Number of times gradient descent has to run\n",
        "\n",
        "    alpha : Learning rate of gradient descent\n",
        "\n",
        "    lossfunc: determines which loss function to call\n",
        "\n",
        "    Returns\n",
        "    -------\n",
        "    \"\"\"\n",
        "    m=X.shape[0] # number of samples\n",
        "\n",
        "    split_start=0 # initial split's first index\n",
        "    split_end=m//k # initial split's last index\n",
        "\n",
        "    theta_list=[0]*k  # initialized theta\n",
        "    training_loss_list=[0]*k  # initialized list to store all the training loss from every fold\n",
        "    validation_loss_list=[0]*k # initialized list to store all the validation loss from every fold\n",
        "\n",
        "    error_min=float(\"inf\")\n",
        "    idx=0\n",
        "\n",
        "    for i in range(k):\n",
        "\n",
        "      # Extracting X and y for train and test set\n",
        "      X_train=np.concatenate((X[:split_start],X[split_end:]),axis=0)\n",
        "      y_train=np.concatenate((y[:split_start],y[split_end:]),axis=0)\n",
        "\n",
        "      X_test=X[split_start:split_end]\n",
        "      y_test=y[split_start:split_end]\n",
        "\n",
        "      self.fit(X_train,y_train,X_test,y_test,epoch,alpha,lossfunc) # calculating model parameters by running the gradient descent\n",
        "\n",
        "      # storing the results of current fold in the array\n",
        "      theta_list[i]=self.theta\n",
        "      training_loss_list[i]=self.training_loss\n",
        "      validation_loss_list[i]=self.validation_loss\n",
        "\n",
        "      split_start=split_end # updating slice parameters\n",
        "      split_end+=m//k\n",
        "\n",
        "      error=training_loss_list[i][-1]\n",
        "\n",
        "\n",
        "      # if the error in this fold is minimum of all errors seen upto now then update it and store the fold number\n",
        "      if(error<error_min):\n",
        "        idx=i\n",
        "        error_min=error\n",
        "    \n",
        "    # final storing the values associated with minimum error \n",
        "    self.theta=theta_list[idx]\n",
        "    self.training_loss=training_loss_list[idx]\n",
        "    self.validation_loss=validation_loss_list[idx]\n",
        "\n",
        "  def MSE(self,X,y,theta):\n",
        "    \"\"\"\n",
        "    finding Mean Squared Error based on current model parameters\n",
        "\n",
        "    Parameters\n",
        "    ----------\n",
        "    X : 2-dimensional numpy array of shape (n_samples, n_features)\n",
        "\n",
        "    y : 1-dimensional numpy array of shape (n_samples,)\n",
        "\n",
        "    theta : Value of theta at which derivative of cost has to be found\n",
        "\n",
        "    Returns\n",
        "    -------\n",
        "    derv : derivative of cost at the value theta\n",
        "\n",
        "    err  : Error/cost in prediction at the value theta\n",
        "    \"\"\"\n",
        "    m=len(y)\n",
        "\n",
        "    X_trans=np.transpose(X)                                 # Transpose of vector X\n",
        "    err=X.dot(theta)-y\n",
        "    derv =(1/m)*(X_trans.dot(err))                         # Calculates X` * ( X*theta - y )\n",
        "    \n",
        "    return derv,sum(err**2)/m    \n",
        " \n",
        "  def MAE(self,X,y,theta):\n",
        "    \"\"\"\n",
        "    finding Mean Absolute Error based on current model parameters\n",
        "\n",
        "    Parameters\n",
        "    ----------\n",
        "    X : 2-dimensional numpy array of shape (n_samples, n_features)\n",
        "\n",
        "    y : 1-dimensional numpy array of shape (n_samples,)\n",
        "\n",
        "    theta : Value of theta at which derivative of cost has to be found\n",
        "\n",
        "    Returns\n",
        "    -------\n",
        "    derv : derivative of cost at the value theta\n",
        "    err  : Error/cost in prediction at the value theta\n",
        "    \"\"\"\n",
        "    m=len(y)\n",
        "    err=(1/m)*(X.dot(theta)-y)          # Calculates (1/m) *( X*theta - y )\n",
        "    X_trans=X.T                         # Transpose of vector X\n",
        "    epsilon=10**-7                      # epsilon used only for datset-2 where gradient overshoots value and gives nan \n",
        "    derv=(1/m)*(X_trans.dot(abs(err)/(err)))\n",
        "\n",
        "    return derv,np.sum(abs(err))           # returns gradient and sum((1/m) *( | X*theta - y |))\n",
        "\n",
        "  def RMSE(self,X,y,theta):\n",
        "    \"\"\"\n",
        "    finding Root Mean Squared Error based on current model parameters\n",
        "\n",
        "    Parameters\n",
        "    ----------\n",
        "    X : 2-dimensional numpy array of shape (n_samples, n_features)\n",
        "\n",
        "    y : 1-dimensional numpy array of shape (n_samples,) \n",
        "\n",
        "    theta : Value of theta at which derivative of cost has to be found\n",
        "\n",
        "    Returns\n",
        "    -------\n",
        "    derv : derivative of cost at the value theta\n",
        "\n",
        "    err  : Error/cost in prediction at the value theta\n",
        "    \"\"\"\n",
        "    m=len(y)\n",
        "    X_trans=X.T                                          # Transpose of vector X\n",
        "    diff=X.dot(theta)-y                                  # Calculates ( X*theta - y )\n",
        "   \n",
        "    err=((1/m)*np.sum((diff)**2))**0.5                   # Calculates (1/m) *sqrt(sum((X*theta - y)^2))\n",
        "    derv =(1/m)*(X_trans.dot(diff))/err         \n",
        "    \n",
        "    return derv,err\n",
        "\n",
        "\n",
        "  def gradient_descent(self,X,y,X_test,y_test,epochs,alpha,lossfunc):\n",
        "    \"\"\"\n",
        "    Finding theta using the gradient descent method\n",
        "\n",
        "    Parameters\n",
        "    ----------\n",
        "    X : 2-dimensional numpy array of shape (n_samples, n_features) which acts as training data.\n",
        "\n",
        "    y : 1-dimensional numpy array of shape (n_samples,) which acts as training labels.\n",
        "\n",
        "    X_test : 2-dimensional numpy array of shape (n_samples, n_features) which acts as Testing data.\n",
        "\n",
        "    y_test : 1-dimensional numpy array of shape (n_samples,) which acts as Testing labels.\n",
        "\n",
        "    epochs : Number of times gradient descent has to run\n",
        "\n",
        "    alpha : Learning rate of gradient descent\n",
        "\n",
        "    lossfunc: determines which loss function to call\n",
        "\n",
        "    Returns\n",
        "    -------\n",
        "    theta : Calculated value of theta on given test set (X,y) with learning rate alpha \n",
        "\n",
        "    training_loss: Calculated training loss at every theta\n",
        "\n",
        "    validation_loss: Calculated validation loss at every theta\n",
        "    \"\"\"\n",
        "   \n",
        "    theta= np.zeros((X.shape[1],))                     # created a column vector theta of length equal to number of features in X with all the initial values 0\n",
        "    \n",
        "    training_loss=np.array([])                      # initializing array to store training loss at every value of theta\n",
        "    validation_loss= np.array([])                   # initializing array to store validation loss at every value of theta\n",
        "\n",
        "\n",
        "    for i in range(epochs): \n",
        "      if(lossfunc==1):     # Using RMSE Loss Function\n",
        "        derv,train_loss=self.RMSE(X,y,theta)   \n",
        "      elif(lossfunc==2):   # Using MAE Loss Function\n",
        "        derv,train_loss=self.MAE(X,y,theta)\n",
        "      else:                # Using MSE Loss Function\n",
        "        derv,train_loss=self.MSE(X,y,theta)\n",
        "      training_loss=np.append(training_loss,train_loss)\n",
        "      \n",
        "\n",
        "      if(X_test is not None): # calculate validation loss only if test set is provided\n",
        "        if(lossfunc==1):    # Using RMSE Loss Function\n",
        "          derv_val,val_loss=self.RMSE(X_test,y_test,theta)   \n",
        "        elif(lossfunc==2):  # Using MAE Loss Function\n",
        "          derv_val,val_loss=self.MAE(X_test,y_test,theta)\n",
        "        else:               # Using MSE Loss Function\n",
        "          derv_val,val_loss=self.MSE(X_test,y_test,theta)\n",
        "\n",
        "        validation_loss=np.append(validation_loss,val_loss)\n",
        "\n",
        "      theta=theta-alpha*derv      \n",
        "  \n",
        "    return theta,training_loss,validation_loss\n",
        "\n",
        "  def fit(self, X, y,X_test=None,y_test=None,epoch=400,alpha=0.01,lossfunc=1):\n",
        "    \"\"\"\n",
        "    Fitting (training) the linear model.\n",
        "\n",
        "    Parameters\n",
        "    ----------\n",
        "    X : 2-dimensional numpy array of shape (n_samples, n_features) which acts as training data.\n",
        "\n",
        "    y : 1-dimensional numpy array of shape (n_samples,) which acts as training labels.\n",
        "\n",
        "    X_test : 2-dimensional numpy array of shape (n_samples, n_features) which acts as Testing data.\n",
        "\n",
        "    y_test : 1-dimensional numpy array of shape (n_samples,) which acts as Testing labels.\n",
        "\n",
        "    epoch : Number of times gradient descent has to run\n",
        "\n",
        "    alpha : Learning rate of gradient descent\n",
        "\n",
        "    lossfunc: determines which loss function to call\n",
        "\n",
        "    Returns\n",
        "    -------\n",
        "    self : an instance of self\n",
        "    \"\"\"\n",
        "\n",
        "    X=np.concatenate((np.ones((X.shape[0],1)),X),axis=1) # Adding a bias variable i.e columns of 1 to data\n",
        "\n",
        "    if(X_test is not None): # if validation set is provided then add a bias variable i.e columns of 1 to data\n",
        "      X_test=np.concatenate((np.ones((X_test.shape[0],1)),X_test),axis=1)\n",
        "   \n",
        "    X_trans=np.transpose(X)\n",
        "    if(lossfunc==4):\n",
        "      try:\n",
        "        self.theta = np.linalg.inv(X_trans.dot(X)).dot(X_trans).dot(y)  # using the normal eqn, theta = inv(X`*X)*X`*y\n",
        "      except:\n",
        "        self.theta,self.training_loss,self.validation_loss = self.gradient_descent(X,y,X_test,y_test,epoch,alpha,lossfunc=1) # using the gradient descent method with RMSE loss function(default) if the given data is non invertible\n",
        "    else: \n",
        "      self.theta,self.training_loss,self.validation_loss = self.gradient_descent(X,y,X_test,y_test,epoch,alpha,lossfunc) # using the gradient descent method with given number of epochs and learning rate\n",
        "      \n",
        "\n",
        "    # fit function has to return an instance of itself or else it won't work with test.py\n",
        "    return self\n",
        "\n",
        "\n",
        "  def predict(self, X):\n",
        "    \"\"\"\n",
        "    Predicting values using the trained linear model.\n",
        "\n",
        "    Parameters\n",
        "    ----------\n",
        "    X : 2-dimensional numpy array of shape (n_samples, n_features) which acts as testing data.\n",
        "\n",
        "    Returns\n",
        "    -------\n",
        "    y : 1-dimensional numpy array of shape (n_samples,) which contains the predicted values.\n",
        "    \"\"\"\n",
        "\n",
        "    X=np.concatenate((np.ones((X.shape[0],1)),X),axis=1)\n",
        "\n",
        "    y=np.dot(X,self.theta)\n",
        "\n",
        "    # return the numpy array y which contains the predicted values\n",
        "    return y\n",
        "\n",
        "  def plot_loss(self): # prints and plots all the class variables and regression results\n",
        "    print(\"Thetas:\",self.theta)\n",
        "    print(\"Training Loss:\",self.training_loss[-1])\n",
        "    print(\"Validation Loss:\",self.validation_loss[-1])\n",
        "    \n",
        "    plt.plot(self.training_loss,color=\"g\", label=\"Training Loss\")\n",
        "    plt.plot(self.validation_loss,color=\"r\",label=\"Validation Loss\")\n",
        "    plt.xlabel('Iteration')\n",
        "    plt.ylabel('Loss')\n",
        "    plt.legend()\n",
        "    plt.show()"
      ],
      "execution_count": 3,
      "outputs": []
    },
    {
      "cell_type": "markdown",
      "metadata": {
        "id": "E68z99ULqRBt",
        "colab_type": "text"
      },
      "source": [
        "## Dataset1"
      ]
    },
    {
      "cell_type": "code",
      "metadata": {
        "id": "5FrZ20anXvGL",
        "colab_type": "code",
        "colab": {
          "base_uri": "https://localhost:8080/",
          "height": 34
        },
        "outputId": "67ed50a2-d8c1-4edc-acc1-28c01dfbab2b"
      },
      "source": [
        "preprocessor = MyPreProcessor()\n",
        "X, y = preprocessor.pre_process(0)\n",
        "\n",
        "linear = MyLinearRegression()\n",
        "linear.fit(X,y, lossfunc=4)\n",
        "print(linear.theta)\n",
        "linear.cross_validation(X,y,epoch=10000,alpha=0.01,lossfunc=2)\n",
        "linear.plot_loss()"
      ],
      "execution_count": 63,
      "outputs": [
        {
          "output_type": "stream",
          "text": [
            "(4177, 9)\n"
          ],
          "name": "stdout"
        }
      ]
    },
    {
      "cell_type": "markdown",
      "metadata": {
        "id": "0--8rgUVMyfD",
        "colab_type": "text"
      },
      "source": [
        "### Parameters Using Normal Equation"
      ]
    },
    {
      "cell_type": "code",
      "metadata": {
        "id": "SeJIZ5tNFbmf",
        "colab_type": "code",
        "colab": {
          "base_uri": "https://localhost:8080/",
          "height": 52
        },
        "outputId": "cc0d417d-ea30-4b1b-bcc2-dc23d52c285d"
      },
      "source": [
        "preprocessor = MyPreProcessor()\n",
        "X, y = preprocessor.pre_process(0)\n",
        "X=np.concatenate((np.ones((X.shape[0],1)),X),axis=1)\n",
        "X_test=X[:X.shape[0]//9]\n",
        "y_test=y[:y.shape[0]//9]\n",
        "\n",
        "X_train=X[X.shape[0]//9:]\n",
        "y_train=y[y.shape[0]//9:]\n",
        "theta=np.array([ 9.93368446 ,-0.3215536,  -0.09923279,  1.18716678 , 0.46859482,  4.44739825,\n",
        " -4.46228469, -1.11301053,  1.21107218])\n",
        "print(X_test.shape)\n",
        "val_loss=sum(abs(X_test.dot(theta)-y_test))/y_test.shape[0]\n",
        "train_loss=sum(abs(X_train.dot(theta)-y_train))/y_train.shape[0]\n",
        "print(train_loss,val_loss)"
      ],
      "execution_count": 11,
      "outputs": [
        {
          "output_type": "stream",
          "text": [
            "(464, 9)\n",
            "1.5409430714877588 1.932138018475601\n"
          ],
          "name": "stdout"
        }
      ]
    },
    {
      "cell_type": "markdown",
      "metadata": {
        "colab_type": "text",
        "id": "HHOIS1Wb9tpj"
      },
      "source": [
        "## Dataset2"
      ]
    },
    {
      "cell_type": "code",
      "metadata": {
        "colab_type": "code",
        "id": "hpSzdHFk9tpz",
        "colab": {
          "base_uri": "https://localhost:8080/",
          "height": 337
        },
        "outputId": "89a5327c-5041-4b06-c161-b9fa754952d3"
      },
      "source": [
        "preprocessor = MyPreProcessor()\n",
        "X, y = preprocessor.pre_process(1)\n",
        "\n",
        "linear = MyLinearRegression()\n",
        "linear.cross_validation(X,y, epoch=10000,alpha=0.001, lossfunc=2)\n",
        "linear.plot_loss()"
      ],
      "execution_count": 109,
      "outputs": [
        {
          "output_type": "stream",
          "text": [
            "Thetas: [ 0.18793102  0.05174471 -0.01912461]\n",
            "Training Loss: 0.44689430360711124\n",
            "Validation Loss: 0.5764138583769058\n"
          ],
          "name": "stdout"
        },
        {
          "output_type": "display_data",
          "data": {
            "image/png": "[encoded data removed]",
            "text/plain": [
              "<Figure size 432x288 with 1 Axes>"
            ]
          },
          "metadata": {
            "tags": []
          }
        }
      ]
    },
    {
      "cell_type": "markdown",
      "metadata": {
        "id": "dU4kz7QRS5AO",
        "colab_type": "text"
      },
      "source": [
        "# Logistic Regression"
      ]
    },
    {
      "cell_type": "code",
      "metadata": {
        "id": "W66BTEUZGh4T",
        "colab_type": "code",
        "colab": {}
      },
      "source": [
        "class MyLogisticRegression():\n",
        "\t\"\"\"\n",
        "\tMy implementation of Logistic Regression.\n",
        "\t\"\"\"\n",
        "\n",
        "\tdef __init__(self):\n",
        "\t\tpass\n",
        "\n",
        "\tdef sigmoid(self,z):\n",
        "\t\t\"\"\"\n",
        "\t\tFind the sigmoid value of z\n",
        "\n",
        "\t\tParameters\n",
        "\t\t----------\n",
        "\t\tz : 1-dimensional numpy array of shape (n_samples,)\n",
        "\n",
        "\t\tReturns\n",
        "\t\t-------\n",
        "\t\tvalue of z in sigmoid function\n",
        "\t\t\"\"\"\n",
        "\t\treturn 1/(1+np.exp(-z))\n",
        "\t\n",
        "\tdef accuracy(self,y_hat,y):\n",
        "\t\t\"\"\"\n",
        "\t\tFind the accuracy in predicted data\n",
        "\n",
        "\t\tParameters\n",
        "\t\t----------\n",
        "\t\ty_hat : 1-dimensional numpy array of shape (n_samples,), predicted values using regression\n",
        "\n",
        "\t\ty : 1-dimensional numpy array of shape (n_samples,), Original\n",
        "\n",
        "\t\tReturns\n",
        "\t\t-------\n",
        "\t\tAccuracy value\n",
        "\t\t\"\"\"\n",
        "\t\tm=y.shape[0]  # number of samples\n",
        "\t\ty_hat[y_hat>=0.5]=1  # if probability of getting 1 is greater than or equal to 0.5 then predict 1\n",
        "\t\ty_hat[y_hat<0.5]=0   # if probability of getting 1 is less than 0.5 then predict 0\n",
        "\t\treturn (1-sum(abs(y-y_hat))/m)*100  # returns the average of difference of values in both arrays\n",
        "\n",
        "\tdef cost_diff(self,X,y,theta):\n",
        "\t\t\"\"\"\n",
        "\t\tFind Log Loss error in current model parameters\n",
        "\n",
        "\t\tParameters\n",
        "\t\t----------\n",
        "\t\tX : 2-dimensional numpy array of shape (n_samples, n_features) which acts as training data.\n",
        "\n",
        "\t\ty : 1-dimensional numpy array of shape (n_samples,) which acts as training labels.\n",
        "\n",
        "\t\ttheta : Value of theta at which derivative of cost has to be found\n",
        "\n",
        "\t\tReturns\n",
        "\t\t-------\n",
        "\t\tderv : derivative of cost at the value theta\n",
        "\n",
        "\t\terr: error in prediction using the current value of theta\n",
        "\n",
        "\t\taccuracy: accuracy of prediction of data\n",
        "\t\t\"\"\"\n",
        "\t\tm=y.shape[0]\n",
        "\t\tX_trans=X.T\t\t  \t# Transpose of vector X\n",
        "\t\n",
        "\t\tactiv =self.sigmoid(X.dot(theta))\n",
        "\n",
        "\t\tderv =(X_trans.dot(activ-y))\t\t  # Calculates X` * ( sigmoid(X*theta) - y )\n",
        "\n",
        "\t\terr=(-1/m)*(np.sum(y*np.log(activ)+(1-y)*np.log(1-activ+10**-7)))  # calculates the cross entropy loss\n",
        "\n",
        "\t\taccuracy=self.accuracy(activ,y)  # calculates the accuracy\n",
        "\n",
        "\t\treturn derv,err,accuracy\n",
        "\n",
        "\n",
        "\tdef stochastic_gradient_descent(self,X,y,X_test=None,y_test=None,epoch=1000,alpha=0.01):\n",
        "\t\t\"\"\"\n",
        "\t\tFinding theta using the stochastic gradient descent model\n",
        "\n",
        "\t\tParameters\n",
        "\t\t----------\n",
        "\t\tX : 2-dimensional numpy array of shape (n_samples, n_features) which acts as training data.\n",
        "\n",
        "\t\ty : 1-dimensional numpy array of shape (n_samples,) which acts as training labels.\n",
        "\n",
        "\t\tX_test : 2-dimensional numpy array of shape (n_samples, n_features) which acts as Testing data.\n",
        "\n",
        "    y_test : 1-dimensional numpy array of shape (n_samples,) which acts as Testing labels.\n",
        "\n",
        "    epoch : Number of times gradient descent has to run\n",
        "\n",
        "    alpha : Learning rate of gradient descent\n",
        "\n",
        "\t\tReturns\n",
        "\t\t-------\n",
        "\t\ttheta : Calculated value of theta on given test set (X,y) with learning rate alpha \n",
        "\n",
        "\t\ttraining_loss: Calculated training loss at every theta\n",
        "\n",
        "    validation_loss: Calculated validation loss at every theta\n",
        "\n",
        "\t\ttraining_loss_acc: Calculated training accuracy at every theta\n",
        "\n",
        "    validation_lossacc_: Calculated validation accuracy at every theta\n",
        "\t\t\"\"\"\n",
        "\t\tm=y.shape[0]\n",
        "\t\t\n",
        "\t\ttheta= np.zeros((X.shape[1],))\t\t  # created a column vector theta of length equal to number of features in X with all the initial values 0\n",
        "\t\t\n",
        "\t\tvalidation_loss_list=np.array([])\n",
        "\t\ttraining_loss_list=np.array([])\n",
        "\t\n",
        "\t\tvalidation_acc_list=np.array([])\n",
        "\t\ttraining_acc_list=np.array([])\n",
        "\t\n",
        "\t\tfor i in range(epoch):\n",
        "\t\t\n",
        "\t\t\tcurr_X=np.array([X[i%m]])\n",
        "\t\t\tcurr_y=np.array([y[i%m]])\n",
        "\t \n",
        "\t\t\tderv,loss,accuracy=self.cost_diff(curr_X,curr_y,theta)\n",
        "\t \n",
        "\t\t\tderv_train,loss_train,accuracy_train=self.cost_diff(X,y,theta)\n",
        "\t \n",
        "\t\t\ttraining_loss_list=np.append(training_loss_list,loss_train)\n",
        "\t\t\ttraining_acc_list=np.append(training_acc_list,accuracy_train)\n",
        "\n",
        "\t\t\tif(X_test is not None):\n",
        "\t\t\t\tderv_val,loss_val,accuracy_val=self.cost_diff(X_test,y_test,theta)\n",
        "\t\t\n",
        "\t\t\t\tvalidation_loss_list=np.append(validation_loss_list,loss_val)\n",
        "\t\t\t\tvalidation_acc_list=np.append(validation_acc_list,accuracy_val)\n",
        "\t\t\n",
        "\t\t\ttheta=theta-(alpha)*derv\n",
        "\t\t\n",
        "\t\treturn theta,validation_loss_list,training_loss_list,validation_acc_list,training_acc_list\n",
        "\n",
        "\n",
        "\t\n",
        "\tdef batch_gradient_descent(self,X,y,X_test=None,y_test=None,epoch=1000,alpha=0.01):\n",
        "\t\t\"\"\"\n",
        "\t\tFinding theta using the batch gradient descent model\n",
        "\n",
        "\t\tParameters\n",
        "\t\t----------\n",
        "\t\tX : 2-dimensional numpy array of shape (n_samples, n_features) which acts as training data.\n",
        "\n",
        "\t\ty : 1-dimensional numpy array of shape (n_samples,) which acts as training labels.\n",
        "\n",
        "\t\tX_test : 2-dimensional numpy array of shape (n_samples, n_features) which acts as Testing data.\n",
        "\n",
        "    y_test : 1-dimensional numpy array of shape (n_samples,) which acts as Testing labels.\n",
        "\n",
        "    epoch : Number of times gradient descent has to run\n",
        "\n",
        "    alpha : Learning rate of gradient descent\n",
        "\n",
        "\t\tReturns\n",
        "\t\t-------\n",
        "\t\ttheta : Calculated value of theta on given test set (X,y) with learning rate alpha \n",
        "\n",
        "\t\ttraining_loss: Calculated training loss at every theta\n",
        "\n",
        "    validation_loss: Calculated validation loss at every theta\n",
        "\n",
        "\t\ttraining_loss_acc: Calculated training accuracy at every theta\n",
        "\n",
        "    validation_lossacc_: Calculated validation accuracy at every theta\n",
        "\t\t\"\"\"\n",
        "\t\tm=y.shape[0]\n",
        "\t\t\n",
        "\t\ttheta= np.zeros((X.shape[1],))\t\t  # created a column vector theta of length equal to number of features in X with all the initial values 0\n",
        "\t\t\n",
        "\t\tvalidation_loss_list=np.array([])\n",
        "\t\ttraining_loss_list=np.array([])\n",
        "\t\n",
        "\t\tvalidation_acc_list=np.array([])\n",
        "\t\ttraining_acc_list=np.array([])\n",
        "\n",
        "\t\tfor i in range(epoch):\n",
        "\t\t\tderv_train,loss_train,accuracy_train=self.cost_diff(X,y,theta)\n",
        "\t\t\ttraining_loss_list=np.append(training_loss_list,loss_train)\n",
        "\t\t\ttraining_acc_list=np.append(training_acc_list,accuracy_train)\n",
        "\n",
        "\t\t\tif(X_test is not None):\n",
        "\t\t\t\tderv_val,loss_val,accuracy_val=self.cost_diff(X_test,y_test,theta)\n",
        "\t\t\t\tvalidation_loss_list=np.append(validation_loss_list,loss_val)\n",
        "\t\t\t\tvalidation_acc_list=np.append(validation_acc_list,accuracy_val)\n",
        "\t\t\n",
        "\t\t\ttheta=theta-(alpha)*derv_train\n",
        "\t\t\n",
        "\t\treturn theta,validation_loss_list,training_loss_list,validation_acc_list,training_acc_list\n",
        "\n",
        "\tdef fit(self, X, y,X_test=None,y_test=None,epoch=10000,alpha=0.01,type=0):\n",
        "\t\t\"\"\"\n",
        "\t\tFitting (training) the logistic model.\n",
        "\n",
        "\t\tParameters\n",
        "\t\t----------\n",
        "\t\tX : 2-dimensional numpy array of shape (n_samples, n_features) which acts as training data.\n",
        "\n",
        "\t\ty : 1-dimensional numpy array of shape (n_samples,) which acts as training labels.\n",
        "\n",
        "\t\tX_test : 2-dimensional numpy array of shape (n_samples, n_features) which acts as Testing data.\n",
        "\n",
        "    y_test : 1-dimensional numpy array of shape (n_samples,) which acts as Testing labels.\n",
        "\n",
        "    epoch : Number of times gradient descent has to run\n",
        "\n",
        "    alpha : Learning rate of gradient descent\n",
        "\n",
        "\t\ttype : 0 value runs batch gradient descent, else stochastic gradient descent is run \n",
        "\n",
        "\t\tReturns\n",
        "\t\t-------\n",
        "\t\tself : an instance of self\n",
        "\t\t\"\"\"\n",
        "\t\tX=np.concatenate((np.ones((X.shape[0],1)),X),axis=1) # Adding a bias variable i.e columns of 1 to data\n",
        "\n",
        "\t\tif(X_test is not None): # if validation set is provided then add a bias variable i.e columns of 1 to data\n",
        "\t\t\tX_test=np.concatenate((np.ones((X_test.shape[0],1)),X_test),axis=1)\n",
        "\t\tif(type==0):\n",
        "\t\t\tself.theta,self.validation_loss,self.training_loss,self.validation_acc,self.training_acc = self.batch_gradient_descent(X,y,X_test,y_test,epoch,alpha)\t\t  # using the batch gradient descent method with given number of epochs and learning rate\n",
        "\t\telse:\n",
        "\t\t\tself.theta,self.validation_loss,self.training_loss,self.validation_acc,self.training_acc = self.stochastic_gradient_descent(X,y,X_test,y_test,epoch,alpha)  # using the stochastic gradient descent method with given number of epochs and learning rate\n",
        "\t\t\n",
        "\t\t# fit function has to return an instance of itself or else it won't work with test.py\n",
        "\t\treturn self\n",
        "\n",
        "\tdef predict(self, X):\n",
        "\t\t\"\"\"\n",
        "\t\tPredicting values using the trained logistic model.\n",
        "\n",
        "\t\tParameters\n",
        "\t\t----------\n",
        "\t\tX : 2-dimensional numpy array of shape (n_samples, n_features) which acts as testing data.\n",
        "\n",
        "\t\tReturns\n",
        "\t\t-------\n",
        "\t\ty : 1-dimensional numpy array of shape (n_samples,) which contains the predicted values.\n",
        "\t\t\"\"\"\n",
        "\t\tX=np.concatenate((np.ones((X.shape[0],1)),X),axis=1)\n",
        "\t\ty=self.sigmoid(X.dot(self.theta))\n",
        "\t\n",
        "\t\ty[y>=0.5]=1\n",
        "\t\ty[y<0.5]=0\n",
        "\n",
        "\t\t# return the numpy array y which contains the predicted values\n",
        "\t\treturn y\n",
        "\n",
        "\tdef plot_loss(self):\n",
        "\t\tprint(\"Thetas:\",self.theta)\n",
        "\t\tprint(\"Training Loss:\",self.training_loss[-1])\n",
        "\t\tprint(\"Validation Loss:\",self.validation_loss[-1])\n",
        "\n",
        "\t\tplt.plot(self.training_loss,color=\"g\", label=\"Training Loss\")\n",
        "\t\tplt.plot(self.validation_loss,color=\"r\",label=\"Validation Loss\")\n",
        "\t\tplt.xlabel('Iteration')\n",
        "\t\tplt.ylabel('Loss')\n",
        "\t\tplt.legend()\n",
        "\t\t# ax = plt.gca()\n",
        "\t\t# ax.set_facecolor('white')\n",
        "\t\t# ax.spines['bottom'].set_color('black')\n",
        "\t\t# ax.spines['top'].set_color('black') \n",
        "\t\t# ax.spines['right'].set_color('black')\n",
        "\t\t# ax.spines['left'].set_color('black')\n",
        "\t\tplt.show()\n"
      ],
      "execution_count": 73,
      "outputs": []
    },
    {
      "cell_type": "markdown",
      "metadata": {
        "id": "erIgoN4nvyyr",
        "colab_type": "text"
      },
      "source": [
        "## Dataset 3"
      ]
    },
    {
      "cell_type": "code",
      "metadata": {
        "id": "mYa7lf2fv11j",
        "colab_type": "code",
        "colab": {}
      },
      "source": [
        "preprocessor = MyPreProcessor()\n",
        "X, y = preprocessor.pre_process(2)\n",
        "X_test=X[:X.shape[0]//10]\n",
        "y_test=y[:y.shape[0]//10]\n",
        "\n",
        "X_train=X[X.shape[0]//10:]\n",
        "y_train=y[y.shape[0]//10:]\n",
        "\n",
        "logistic = MyLogisticRegression()\n",
        "logistic.fit(X_train, y_train,X_test,y_test,epoch=10000,alpha=0.01,type=1)\n",
        "print(logistic.training_acc[-1],logistic.validation_acc[-1])\n",
        "logistic.plot_loss()"
      ],
      "execution_count": null,
      "outputs": []
    },
    {
      "cell_type": "markdown",
      "metadata": {
        "id": "_Cz0N11MC6T3",
        "colab_type": "text"
      },
      "source": [
        "## EDA"
      ]
    },
    {
      "cell_type": "code",
      "metadata": {
        "id": "-qiJANxGC7yE",
        "colab_type": "code",
        "colab": {
          "base_uri": "https://localhost:8080/",
          "height": 1000
        },
        "outputId": "a8a1a2f3-9624-4ea7-c1ae-b60b388fbfae"
      },
      "source": [
        "df=pd.read_csv('/content/data_banknote_authentication.txt',header=None)\n",
        "df.hist(figsize=(16, 20), bins=50, xlabelsize=8, ylabelsize=8);"
      ],
      "execution_count": 61,
      "outputs": [
        {
          "output_type": "display_data",
          "data": {
            "image/png": "[encoded data removed]",
            "text/plain": [
              "<Figure size 432x288 with 1 Axes>"
            ]
          },
          "metadata": {
            "tags": [],
            "needs_background": "light"
          }
        },
        {
          "output_type": "display_data",
          "data": {
            "image/png": "[encoded data removed]",
            "text/plain": [
              "<Figure size 1152x1440 with 6 Axes>"
            ]
          },
          "metadata": {
            "tags": [],
            "needs_background": "light"
          }
        }
      ]
    },
    {
      "cell_type": "code",
      "metadata": {
        "id": "660nb9IxETJA",
        "colab_type": "code",
        "colab": {
          "base_uri": "https://localhost:8080/",
          "height": 206
        },
        "outputId": "7c352b0c-7cfe-4098-9fa3-b474ab25bc75"
      },
      "source": [
        "df=pd.read_csv('/content/data_banknote_authentication.txt',header=None)\n",
        "df.corr()"
      ],
      "execution_count": 74,
      "outputs": [
        {
          "output_type": "execute_result",
          "data": {
            "text/html": [
              "<div>\n",
              "<style scoped>\n",
              "    .dataframe tbody tr th:only-of-type {\n",
              "        vertical-align: middle;\n",
              "    }\n",
              "\n",
              "    .dataframe tbody tr th {\n",
              "        vertical-align: top;\n",
              "    }\n",
              "\n",
              "    .dataframe thead th {\n",
              "        text-align: right;\n",
              "    }\n",
              "</style>\n",
              "<table border=\"1\" class=\"dataframe\">\n",
              "  <thead>\n",
              "    <tr style=\"text-align: right;\">\n",
              "      <th></th>\n",
              "      <th>0</th>\n",
              "      <th>1</th>\n",
              "      <th>2</th>\n",
              "      <th>3</th>\n",
              "      <th>4</th>\n",
              "    </tr>\n",
              "  </thead>\n",
              "  <tbody>\n",
              "    <tr>\n",
              "      <th>0</th>\n",
              "      <td>1.000000</td>\n",
              "      <td>0.264026</td>\n",
              "      <td>-0.380850</td>\n",
              "      <td>0.276817</td>\n",
              "      <td>-0.724843</td>\n",
              "    </tr>\n",
              "    <tr>\n",
              "      <th>1</th>\n",
              "      <td>0.264026</td>\n",
              "      <td>1.000000</td>\n",
              "      <td>-0.786895</td>\n",
              "      <td>-0.526321</td>\n",
              "      <td>-0.444688</td>\n",
              "    </tr>\n",
              "    <tr>\n",
              "      <th>2</th>\n",
              "      <td>-0.380850</td>\n",
              "      <td>-0.786895</td>\n",
              "      <td>1.000000</td>\n",
              "      <td>0.318841</td>\n",
              "      <td>0.155883</td>\n",
              "    </tr>\n",
              "    <tr>\n",
              "      <th>3</th>\n",
              "      <td>0.276817</td>\n",
              "      <td>-0.526321</td>\n",
              "      <td>0.318841</td>\n",
              "      <td>1.000000</td>\n",
              "      <td>-0.023424</td>\n",
              "    </tr>\n",
              "    <tr>\n",
              "      <th>4</th>\n",
              "      <td>-0.724843</td>\n",
              "      <td>-0.444688</td>\n",
              "      <td>0.155883</td>\n",
              "      <td>-0.023424</td>\n",
              "      <td>1.000000</td>\n",
              "    </tr>\n",
              "  </tbody>\n",
              "</table>\n",
              "</div>"
            ],
            "text/plain": [
              "          0         1         2         3         4\n",
              "0  1.000000  0.264026 -0.380850  0.276817 -0.724843\n",
              "1  0.264026  1.000000 -0.786895 -0.526321 -0.444688\n",
              "2 -0.380850 -0.786895  1.000000  0.318841  0.155883\n",
              "3  0.276817 -0.526321  0.318841  1.000000 -0.023424\n",
              "4 -0.724843 -0.444688  0.155883 -0.023424  1.000000"
            ]
          },
          "metadata": {
            "tags": []
          },
          "execution_count": 74
        }
      ]
    },
    {
      "cell_type": "markdown",
      "metadata": {
        "id": "oa9AxYh_cOMD",
        "colab_type": "text"
      },
      "source": [
        "## Sklearn Model"
      ]
    },
    {
      "cell_type": "code",
      "metadata": {
        "id": "1oDRuzR-cRRW",
        "colab_type": "code",
        "colab": {}
      },
      "source": [
        "from sklearn import metrics \n",
        "from sklearn.linear_model import LogisticRegression\n",
        "from sklearn.model_selection import train_test_split"
      ],
      "execution_count": null,
      "outputs": []
    },
    {
      "cell_type": "code",
      "metadata": {
        "id": "YQhMTMPxcTy_",
        "colab_type": "code",
        "colab": {
          "base_uri": "https://localhost:8080/",
          "height": 69
        },
        "outputId": "f2e39074-ce84-4321-f8c6-3b3de278783a"
      },
      "source": [
        "preprocessor = MyPreProcessor()\n",
        "x, y = preprocessor.pre_process(2)\n",
        "x_train, x_test, y_train, y_test = train_test_split(x, y, random_state=4)\n",
        "logistic_regression = LogisticRegression()\n",
        "logistic_regression.fit(x_train,y_train)\n",
        "y_pred = logistic_regression.predict(x_test)\n",
        "accuracy = metrics.accuracy_score(y_test, y_pred)\n",
        "print(\"Accuracy Test:\",accuracy)\n",
        "y_pred1 = logistic_regression.predict(x_train)\n",
        "accuracy = metrics.accuracy_score(y_train, y_pred1)\n",
        "print(\"Accuracy Train:\",accuracy)\n",
        "print(\"Thetas:\",logistic_regression.coef_)\n"
      ],
      "execution_count": null,
      "outputs": [
        {
          "output_type": "stream",
          "text": [
            "Accuracy Test: 0.9795918367346939\n",
            "Accuracy Train: 0.9825072886297376\n",
            "Thetas: [[-4.58128443 -4.68888037 -4.27457391  0.23536925]]\n"
          ],
          "name": "stdout"
        }
      ]
    },
    {
      "cell_type": "markdown",
      "metadata": {
        "id": "iOUVjO6MSZBi",
        "colab_type": "text"
      },
      "source": [
        "# Testing\n"
      ]
    },
    {
      "cell_type": "code",
      "metadata": {
        "id": "G1a1xWkZdRyN",
        "colab_type": "code",
        "colab": {
          "base_uri": "https://localhost:8080/",
          "height": 69
        },
        "outputId": "32a81fd9-dd01-4a90-a80e-074ad05e5548"
      },
      "source": [
        "preprocessor = MyPreProcessor()\n",
        "X, y = preprocessor.pre_process(3)\n",
        "X=np.concatenate((np.ones((X.shape[0],1)),X),axis=1)\n",
        "X_trans=np.transpose(X)\n",
        "np.linalg.inv(X_trans.dot(X)).dot(X_trans).dot(y)"
      ],
      "execution_count": 102,
      "outputs": [
        {
          "output_type": "execute_result",
          "data": {
            "text/plain": [
              "array([[0.42424242],\n",
              "       [0.2746465 ],\n",
              "       [0.14256181]])"
            ]
          },
          "metadata": {
            "tags": []
          },
          "execution_count": 102
        }
      ]
    },
    {
      "cell_type": "code",
      "metadata": {
        "id": "kdbZwPiFGwiK",
        "colab_type": "code",
        "colab": {
          "base_uri": "https://localhost:8080/",
          "height": 156
        },
        "outputId": "3f8b307d-02e5-4467-8623-aa233a182bba"
      },
      "source": [
        "Xtrain = np.array([[1, 2, 3], \n",
        "                   [4, 5, 6]])\n",
        "ytrain = np.array([1, 2])\n",
        "\n",
        "Xtest = np.array([[7, 8, 9]])\n",
        "ytest = np.array([3])\n",
        "\n",
        "print('Linear Regression')\n",
        "\n",
        "linear = MyLinearRegression()\n",
        "linear.fit(Xtrain, ytrain)\n",
        "\n",
        "ypred = linear.predict(Xtest)\n",
        "\n",
        "print('Predicted Values:', ypred)\n",
        "print('True Values:', ytest)\n",
        "\n",
        "print('Logistic Regression')\n",
        "\n",
        "logistic = MyLogisticRegression()\n",
        "logistic.fit(Xtrain, ytrain)\n",
        "\n",
        "ypred = logistic.predict(Xtest)\n",
        "\n",
        "print('Predicted Values:', ypred)\n",
        "print('True Values:', ytest)"
      ],
      "execution_count": null,
      "outputs": [
        {
          "output_type": "stream",
          "text": [
            "Linear Regression\n",
            "-*-*-*-*-*-*-*-*-*-*-*-*-*-*-*-*-*-*-*-*\n",
            "Predicted Values: [3.47084775]\n",
            "True Values: [3]\n",
            "Logistic Regression\n",
            "Predicted Values: [1.]\n",
            "True Values: [3]\n"
          ],
          "name": "stdout"
        },
        {
          "output_type": "stream",
          "text": [
            "/usr/local/lib/python3.6/dist-packages/ipykernel_launcher.py:51: RuntimeWarning: divide by zero encountered in log\n"
          ],
          "name": "stderr"
        }
      ]
    }
  ]
}